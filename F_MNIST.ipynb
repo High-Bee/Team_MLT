{
  "nbformat": 4,
  "nbformat_minor": 0,
  "metadata": {
    "colab": {
      "name": "F-MNIST.ipynb",
      "provenance": [],
      "collapsed_sections": [],
      "authorship_tag": "ABX9TyN/XyFN3ME4QMjCD+8ePMe5",
      "include_colab_link": true
    },
    "kernelspec": {
      "name": "python3",
      "display_name": "Python 3"
    },
    "accelerator": "GPU"
  },
  "cells": [
    {
      "cell_type": "markdown",
      "metadata": {
        "id": "view-in-github",
        "colab_type": "text"
      },
      "source": [
        "<a href=\"https://colab.research.google.com/github/High-Bee/honeycomb/blob/master/F_MNIST.ipynb\" target=\"_parent\"><img src=\"https://colab.research.google.com/assets/colab-badge.svg\" alt=\"Open In Colab\"/></a>"
      ]
    },
    {
      "cell_type": "code",
      "metadata": {
        "id": "Jd9R6k3tG3qF",
        "colab_type": "code",
        "colab": {}
      },
      "source": [
        "!pip install tensorflow-gpu==1.15\n"
      ],
      "execution_count": 0,
      "outputs": []
    },
    {
      "cell_type": "code",
      "metadata": {
        "id": "Y5JZWDBAHgG9",
        "colab_type": "code",
        "colab": {
          "base_uri": "https://localhost:8080/",
          "height": 81
        },
        "outputId": "86873a97-cb95-400f-bd0f-ed93a9473538"
      },
      "source": [
        "import tensorflow as tf\n",
        "tf.__version__"
      ],
      "execution_count": 1,
      "outputs": [
        {
          "output_type": "display_data",
          "data": {
            "text/html": [
              "<p style=\"color: red;\">\n",
              "The default version of TensorFlow in Colab will soon switch to TensorFlow 2.x.<br>\n",
              "We recommend you <a href=\"https://www.tensorflow.org/guide/migrate\" target=\"_blank\">upgrade</a> now \n",
              "or ensure your notebook will continue to use TensorFlow 1.x via the <code>%tensorflow_version 1.x</code> magic:\n",
              "<a href=\"https://colab.research.google.com/notebooks/tensorflow_version.ipynb\" target=\"_blank\">more info</a>.</p>\n"
            ],
            "text/plain": [
              "<IPython.core.display.HTML object>"
            ]
          },
          "metadata": {
            "tags": []
          }
        },
        {
          "output_type": "execute_result",
          "data": {
            "text/plain": [
              "'1.15.0'"
            ]
          },
          "metadata": {
            "tags": []
          },
          "execution_count": 1
        }
      ]
    },
    {
      "cell_type": "code",
      "metadata": {
        "id": "1bDLb7DrHrTI",
        "colab_type": "code",
        "colab": {
          "base_uri": "https://localhost:8080/",
          "height": 34
        },
        "outputId": "e72e8dd4-e71a-4e93-f49f-38ffe41825db"
      },
      "source": [
        "# # Kaggle Fashion MNIST deeplearning\n",
        "# # 필요한 module import\n",
        "\n",
        "import tensorflow as tf\n",
        "import pandas as pd\n",
        "import numpy as np\n",
        "import matplotlib.pyplot as plt\n",
        "from sklearn.preprocessing import MinMaxScaler\n",
        "\n",
        "from google.colab import drive\n",
        "drive.mount('/content/drive')\n",
        "\n",
        "# # Data Loading\n",
        "k_train_mnist = pd.read_csv(\"/content/fashion-mnist_train.csv\")\n",
        "k_test_mnist = pd.read_csv(\"/content/fashion-mnist_test.csv\")\n",
        "\n"
      ],
      "execution_count": 5,
      "outputs": [
        {
          "output_type": "stream",
          "text": [
            "Drive already mounted at /content/drive; to attempt to forcibly remount, call drive.mount(\"/content/drive\", force_remount=True).\n"
          ],
          "name": "stdout"
        }
      ]
    },
    {
      "cell_type": "code",
      "metadata": {
        "id": "567iHAOGH9MP",
        "colab_type": "code",
        "colab": {}
      },
      "source": [
        "scaler = MinMaxScaler()\n",
        "scaler.fit(k_train_mnist)\n",
        "\n",
        "x_data = scaler.fit_transform((k_train_mnist.iloc[:,1:]/255))\n",
        "y_data = pd.get_dummies(k_train_mnist[\"label\"]).values\n",
        "\n",
        "pre_x_data = scaler.fit_transform(k_test_mnist.values)\n",
        "\n",
        "\n",
        "# train / test 구분\n",
        "train_num = int(x_data.shape[0] * 0.8)\n",
        "\n",
        "# train data set\n",
        "train_x_data = x_data[:train_num]\n",
        "train_y_data = y_data[:train_num]\n",
        "\n",
        "# test data set\n",
        "test_x_data = x_data[train_num:]\n",
        "test_y_data = y_data[train_num:]\n",
        "\n",
        "# Placeholder\n",
        "tf.reset_default_graph()\n",
        "X = tf.placeholder(shape=[None,784], dtype=tf.float32)\n",
        "Y = tf.placeholder(shape=[None,10], dtype=tf.float32)\n",
        "drop_rate = tf.placeholder(dtype=tf.float32)\n",
        "\n",
        "# Convolution Layer (Layer1)\n",
        "x_img = tf.reshape(X, [-1,28,28,1]) # 몇장인지 모르고 28,28이고 색은 그레이스케일 1\n",
        "W1 = tf.Variable(tf.random_normal([3,3,1,32]))\n",
        "L1 = tf.nn.conv2d(x_img, W1, strides=[1,1,1,1], padding=\"SAME\") # strides와 padding은 parameter값\n",
        "L1 = tf.nn.relu(L1)\n",
        "L1 = tf.nn.max_pool(L1, ksize=[1,2,2,1], strides=[1,2,2,1], padding=\"SAME\")\n",
        "\n",
        "# Layer2\n",
        "W2 = tf.Variable(tf.random_normal([3,3,32,64]))\n",
        "L2 = tf.nn.conv2d(L1, W2, strides=[1,1,1,1], padding=\"SAME\")\n",
        "L2 = tf.nn.relu(L2)\n",
        "L2 = tf.nn.max_pool(L2, ksize=[1,2,2,1], strides=[1,2,2,1], padding=\"SAME\")\n",
        "\n",
        "\n",
        "\n",
        "# 이렇게 만든 data를 FC Layer에 넣어서 학습!\n",
        "L2 = tf.reshape(L2, [-1, 7*7*64])\n",
        "#L2.shape # TensorShape([Dimension(None), Dimension(7), Dimension(7), Dimension(64)])\n",
        "\n",
        "W3 = tf.get_variable(\"weight3\", shape=[7*7*64,256],\n",
        "                        initializer=tf.contrib.layers.xavier_initializer())\n",
        "b3 = tf.Variable(tf.random_normal([256]), name=\"bias3\")\n",
        "_L3 = tf.nn.relu(tf.matmul(L2, W3)+b3)\n",
        "L3 = tf.nn.dropout(_L3, rate=drop_rate)\n",
        "\n",
        "# Layer 4\n",
        "W4 = tf.get_variable(\"weight4\", shape=[256,256],\n",
        "                        initializer=tf.contrib.layers.xavier_initializer())\n",
        "b4 = tf.Variable(tf.random_normal([256]), name=\"bias4\")\n",
        "_L4 = tf.nn.relu(tf.matmul(L3, W4)+b4)\n",
        "L4 = tf.nn.dropout(_L4, rate=drop_rate)\n",
        "\n",
        "# Layer 5\n",
        "W5 = tf.get_variable(\"weight5\", shape=[256,10],\n",
        "                        initializer=tf.contrib.layers.xavier_initializer())\n",
        "b5 = tf.Variable(tf.random_normal([10]), name=\"bias5\")\n",
        "\n",
        "# Hypothesis\n",
        "logit = tf.matmul(L4, W5)+b5\n",
        "H = tf.nn.relu(logit)\n",
        "\n",
        "# Cost Function\n",
        "cost = tf.reduce_mean(tf.nn.softmax_cross_entropy_with_logits_v2(logits = logit,\n",
        "                                                                    labels = Y))\n",
        "\n",
        "# train\n",
        "train = tf.train.AdamOptimizer(learning_rate=0.01).minimize(cost)\n",
        "\n",
        "# Session & reset\n",
        "sess = tf.Session()\n",
        "sess.run(tf.global_variables_initializer())\n"
      ],
      "execution_count": 0,
      "outputs": []
    },
    {
      "cell_type": "code",
      "metadata": {
        "id": "K1QOnIyxR8Qo",
        "colab_type": "code",
        "colab": {
          "base_uri": "https://localhost:8080/",
          "height": 34
        },
        "outputId": "b749f9ed-9a03-4dfb-d159-3d58263ff5ea"
      },
      "source": [
        "NL2.shape"
      ],
      "execution_count": 34,
      "outputs": [
        {
          "output_type": "execute_result",
          "data": {
            "text/plain": [
              "TensorShape([Dimension(None), Dimension(7), Dimension(7), Dimension(32)])"
            ]
          },
          "metadata": {
            "tags": []
          },
          "execution_count": 34
        }
      ]
    },
    {
      "cell_type": "code",
      "metadata": {
        "id": "EajTr_obIbrV",
        "colab_type": "code",
        "colab": {
          "base_uri": "https://localhost:8080/",
          "height": 228
        },
        "outputId": "7948c892-ee69-4373-f147-fb00cac3e872"
      },
      "source": [
        "%%time\n",
        "# 학습시켜보기! \n",
        "# batch function\n",
        "train_epoch = 100\n",
        "batch_size = 100\n",
        "\n",
        "\n",
        "for step in range(train_epoch):\n",
        "    num_of_iter = int(train_x_data.shape[0]/batch_size)\n",
        "    cost_val = 0\n",
        "    for i in range(num_of_iter):\n",
        "        start = i * batch_size\n",
        "        end = start + batch_size\n",
        "        cut_train_x = train_x_data[start:end]\n",
        "        cut_train_y = train_y_data[start:end]\n",
        "        _, cost_val = sess.run([train, cost], \n",
        "                               feed_dict={ X : cut_train_x,\n",
        "                                            Y : cut_train_y,\n",
        "                                             drop_rate : 0.3})\n",
        "    \n",
        "        \n",
        "    if step % 10 == 0:\n",
        "        print(\"Cost값 : {}\".format(cost_val))\n",
        "      "
      ],
      "execution_count": 51,
      "outputs": [
        {
          "output_type": "stream",
          "text": [
            "Cost값 : 0.7583751082420349\n",
            "Cost값 : 0.4109475016593933\n",
            "Cost값 : 0.23193584382534027\n",
            "Cost값 : 0.36803120374679565\n",
            "Cost값 : 0.19683937728405\n",
            "Cost값 : 0.23883932828903198\n",
            "Cost값 : 0.36474645137786865\n",
            "Cost값 : 0.2623209059238434\n",
            "Cost값 : 0.1684090942144394\n",
            "Cost값 : 0.3586425483226776\n",
            "CPU times: user 1min 25s, sys: 13.4 s, total: 1min 38s\n",
            "Wall time: 1min 28s\n"
          ],
          "name": "stdout"
        }
      ]
    },
    {
      "cell_type": "code",
      "metadata": {
        "id": "xebJscNxK0Ry",
        "colab_type": "code",
        "colab": {
          "base_uri": "https://localhost:8080/",
          "height": 34
        },
        "outputId": "001d04c2-1ac5-49c6-a9e6-fe9804af93c8"
      },
      "source": [
        "# 학습이 종료 되었으니 정확도를 측정\n",
        "\n",
        "predict = tf.argmax(H, 1)\n",
        "correct = tf.equal(predict, tf.argmax(Y, 1))\n",
        "accuracy = tf.reduce_mean(tf.cast(correct, dtype = tf.float32))\n",
        "print(\"정확도는 : {}\".format(sess.run(accuracy, feed_dict={X : test_x_data,\n",
        "                                                          Y : test_y_data,\n",
        "                                                           drop_rate : 0.2})))\n"
      ],
      "execution_count": 52,
      "outputs": [
        {
          "output_type": "stream",
          "text": [
            "정확도는 : 0.8639794588088989\n"
          ],
          "name": "stdout"
        }
      ]
    }
  ]
}